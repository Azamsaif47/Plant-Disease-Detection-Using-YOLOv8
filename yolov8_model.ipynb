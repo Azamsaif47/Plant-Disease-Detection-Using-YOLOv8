{
 "cells": [
  {
   "cell_type": "code",
   "execution_count": 1,
   "metadata": {
    "colab": {
     "base_uri": "https://localhost:8080/"
    },
    "executionInfo": {
     "elapsed": 70957,
     "status": "ok",
     "timestamp": 1715109302175,
     "user": {
      "displayName": "Azam Saif",
      "userId": "17741120664034748522"
     },
     "user_tz": -300
    },
    "id": "j1QvyKBXY2_n",
    "outputId": "6b722bbd-20ac-4f16-b2c9-dc773788d7c1"
   },
   "outputs": [
    {
     "name": "stdout",
     "output_type": "stream",
     "text": [
      "Collecting ultralytics\n",
      "  Downloading ultralytics-8.2.10-py3-none-any.whl (755 kB)\n",
      "\u001b[?25l     \u001b[90m━━━━━━━━━━━━━━━━━━━━━━━━━━━━━━━━━━━━━━━━\u001b[0m \u001b[32m0.0/755.6 kB\u001b[0m \u001b[31m?\u001b[0m eta \u001b[36m-:--:--\u001b[0m\r",
      "\u001b[2K     \u001b[91m━━━━━━━━━━━\u001b[0m\u001b[91m╸\u001b[0m\u001b[90m━━━━━━━━━━━━━━━━━━━━━━━━━━━━\u001b[0m \u001b[32m225.3/755.6 kB\u001b[0m \u001b[31m6.5 MB/s\u001b[0m eta \u001b[36m0:00:01\u001b[0m\r",
      "\u001b[2K     \u001b[91m━━━━━━━━━━━━━━━━━━━━━━━━━━━━━━━━━━━━━━━\u001b[0m\u001b[91m╸\u001b[0m \u001b[32m747.5/755.6 kB\u001b[0m \u001b[31m11.4 MB/s\u001b[0m eta \u001b[36m0:00:01\u001b[0m\r",
      "\u001b[2K     \u001b[90m━━━━━━━━━━━━━━━━━━━━━━━━━━━━━━━━━━━━━━━━\u001b[0m \u001b[32m755.6/755.6 kB\u001b[0m \u001b[31m8.4 MB/s\u001b[0m eta \u001b[36m0:00:00\u001b[0m\n",
      "\u001b[?25hRequirement already satisfied: matplotlib>=3.3.0 in /usr/local/lib/python3.10/dist-packages (from ultralytics) (3.7.1)\n",
      "Requirement already satisfied: opencv-python>=4.6.0 in /usr/local/lib/python3.10/dist-packages (from ultralytics) (4.8.0.76)\n",
      "Requirement already satisfied: pillow>=7.1.2 in /usr/local/lib/python3.10/dist-packages (from ultralytics) (9.4.0)\n",
      "Requirement already satisfied: pyyaml>=5.3.1 in /usr/local/lib/python3.10/dist-packages (from ultralytics) (6.0.1)\n",
      "Requirement already satisfied: requests>=2.23.0 in /usr/local/lib/python3.10/dist-packages (from ultralytics) (2.31.0)\n",
      "Requirement already satisfied: scipy>=1.4.1 in /usr/local/lib/python3.10/dist-packages (from ultralytics) (1.11.4)\n",
      "Requirement already satisfied: torch>=1.8.0 in /usr/local/lib/python3.10/dist-packages (from ultralytics) (2.2.1+cu121)\n",
      "Requirement already satisfied: torchvision>=0.9.0 in /usr/local/lib/python3.10/dist-packages (from ultralytics) (0.17.1+cu121)\n",
      "Requirement already satisfied: tqdm>=4.64.0 in /usr/local/lib/python3.10/dist-packages (from ultralytics) (4.66.4)\n",
      "Requirement already satisfied: psutil in /usr/local/lib/python3.10/dist-packages (from ultralytics) (5.9.5)\n",
      "Requirement already satisfied: py-cpuinfo in /usr/local/lib/python3.10/dist-packages (from ultralytics) (9.0.0)\n",
      "Collecting thop>=0.1.1 (from ultralytics)\n",
      "  Downloading thop-0.1.1.post2209072238-py3-none-any.whl (15 kB)\n",
      "Requirement already satisfied: pandas>=1.1.4 in /usr/local/lib/python3.10/dist-packages (from ultralytics) (2.0.3)\n",
      "Requirement already satisfied: seaborn>=0.11.0 in /usr/local/lib/python3.10/dist-packages (from ultralytics) (0.13.1)\n",
      "Requirement already satisfied: contourpy>=1.0.1 in /usr/local/lib/python3.10/dist-packages (from matplotlib>=3.3.0->ultralytics) (1.2.1)\n",
      "Requirement already satisfied: cycler>=0.10 in /usr/local/lib/python3.10/dist-packages (from matplotlib>=3.3.0->ultralytics) (0.12.1)\n",
      "Requirement already satisfied: fonttools>=4.22.0 in /usr/local/lib/python3.10/dist-packages (from matplotlib>=3.3.0->ultralytics) (4.51.0)\n",
      "Requirement already satisfied: kiwisolver>=1.0.1 in /usr/local/lib/python3.10/dist-packages (from matplotlib>=3.3.0->ultralytics) (1.4.5)\n",
      "Requirement already satisfied: numpy>=1.20 in /usr/local/lib/python3.10/dist-packages (from matplotlib>=3.3.0->ultralytics) (1.25.2)\n",
      "Requirement already satisfied: packaging>=20.0 in /usr/local/lib/python3.10/dist-packages (from matplotlib>=3.3.0->ultralytics) (24.0)\n",
      "Requirement already satisfied: pyparsing>=2.3.1 in /usr/local/lib/python3.10/dist-packages (from matplotlib>=3.3.0->ultralytics) (3.1.2)\n",
      "Requirement already satisfied: python-dateutil>=2.7 in /usr/local/lib/python3.10/dist-packages (from matplotlib>=3.3.0->ultralytics) (2.8.2)\n",
      "Requirement already satisfied: pytz>=2020.1 in /usr/local/lib/python3.10/dist-packages (from pandas>=1.1.4->ultralytics) (2023.4)\n",
      "Requirement already satisfied: tzdata>=2022.1 in /usr/local/lib/python3.10/dist-packages (from pandas>=1.1.4->ultralytics) (2024.1)\n",
      "Requirement already satisfied: charset-normalizer<4,>=2 in /usr/local/lib/python3.10/dist-packages (from requests>=2.23.0->ultralytics) (3.3.2)\n",
      "Requirement already satisfied: idna<4,>=2.5 in /usr/local/lib/python3.10/dist-packages (from requests>=2.23.0->ultralytics) (3.7)\n",
      "Requirement already satisfied: urllib3<3,>=1.21.1 in /usr/local/lib/python3.10/dist-packages (from requests>=2.23.0->ultralytics) (2.0.7)\n",
      "Requirement already satisfied: certifi>=2017.4.17 in /usr/local/lib/python3.10/dist-packages (from requests>=2.23.0->ultralytics) (2024.2.2)\n",
      "Requirement already satisfied: filelock in /usr/local/lib/python3.10/dist-packages (from torch>=1.8.0->ultralytics) (3.14.0)\n",
      "Requirement already satisfied: typing-extensions>=4.8.0 in /usr/local/lib/python3.10/dist-packages (from torch>=1.8.0->ultralytics) (4.11.0)\n",
      "Requirement already satisfied: sympy in /usr/local/lib/python3.10/dist-packages (from torch>=1.8.0->ultralytics) (1.12)\n",
      "Requirement already satisfied: networkx in /usr/local/lib/python3.10/dist-packages (from torch>=1.8.0->ultralytics) (3.3)\n",
      "Requirement already satisfied: jinja2 in /usr/local/lib/python3.10/dist-packages (from torch>=1.8.0->ultralytics) (3.1.3)\n",
      "Requirement already satisfied: fsspec in /usr/local/lib/python3.10/dist-packages (from torch>=1.8.0->ultralytics) (2023.6.0)\n",
      "Collecting nvidia-cuda-nvrtc-cu12==12.1.105 (from torch>=1.8.0->ultralytics)\n",
      "  Using cached nvidia_cuda_nvrtc_cu12-12.1.105-py3-none-manylinux1_x86_64.whl (23.7 MB)\n",
      "Collecting nvidia-cuda-runtime-cu12==12.1.105 (from torch>=1.8.0->ultralytics)\n",
      "  Using cached nvidia_cuda_runtime_cu12-12.1.105-py3-none-manylinux1_x86_64.whl (823 kB)\n",
      "Collecting nvidia-cuda-cupti-cu12==12.1.105 (from torch>=1.8.0->ultralytics)\n",
      "  Using cached nvidia_cuda_cupti_cu12-12.1.105-py3-none-manylinux1_x86_64.whl (14.1 MB)\n",
      "Collecting nvidia-cudnn-cu12==8.9.2.26 (from torch>=1.8.0->ultralytics)\n",
      "  Using cached nvidia_cudnn_cu12-8.9.2.26-py3-none-manylinux1_x86_64.whl (731.7 MB)\n",
      "Collecting nvidia-cublas-cu12==12.1.3.1 (from torch>=1.8.0->ultralytics)\n",
      "  Using cached nvidia_cublas_cu12-12.1.3.1-py3-none-manylinux1_x86_64.whl (410.6 MB)\n",
      "Collecting nvidia-cufft-cu12==11.0.2.54 (from torch>=1.8.0->ultralytics)\n",
      "  Using cached nvidia_cufft_cu12-11.0.2.54-py3-none-manylinux1_x86_64.whl (121.6 MB)\n",
      "Collecting nvidia-curand-cu12==10.3.2.106 (from torch>=1.8.0->ultralytics)\n",
      "  Using cached nvidia_curand_cu12-10.3.2.106-py3-none-manylinux1_x86_64.whl (56.5 MB)\n",
      "Collecting nvidia-cusolver-cu12==11.4.5.107 (from torch>=1.8.0->ultralytics)\n",
      "  Using cached nvidia_cusolver_cu12-11.4.5.107-py3-none-manylinux1_x86_64.whl (124.2 MB)\n",
      "Collecting nvidia-cusparse-cu12==12.1.0.106 (from torch>=1.8.0->ultralytics)\n",
      "  Using cached nvidia_cusparse_cu12-12.1.0.106-py3-none-manylinux1_x86_64.whl (196.0 MB)\n",
      "Collecting nvidia-nccl-cu12==2.19.3 (from torch>=1.8.0->ultralytics)\n",
      "  Using cached nvidia_nccl_cu12-2.19.3-py3-none-manylinux1_x86_64.whl (166.0 MB)\n",
      "Collecting nvidia-nvtx-cu12==12.1.105 (from torch>=1.8.0->ultralytics)\n",
      "  Using cached nvidia_nvtx_cu12-12.1.105-py3-none-manylinux1_x86_64.whl (99 kB)\n",
      "Requirement already satisfied: triton==2.2.0 in /usr/local/lib/python3.10/dist-packages (from torch>=1.8.0->ultralytics) (2.2.0)\n",
      "Collecting nvidia-nvjitlink-cu12 (from nvidia-cusolver-cu12==11.4.5.107->torch>=1.8.0->ultralytics)\n",
      "  Using cached nvidia_nvjitlink_cu12-12.4.127-py3-none-manylinux2014_x86_64.whl (21.1 MB)\n",
      "Requirement already satisfied: six>=1.5 in /usr/local/lib/python3.10/dist-packages (from python-dateutil>=2.7->matplotlib>=3.3.0->ultralytics) (1.16.0)\n",
      "Requirement already satisfied: MarkupSafe>=2.0 in /usr/local/lib/python3.10/dist-packages (from jinja2->torch>=1.8.0->ultralytics) (2.1.5)\n",
      "Requirement already satisfied: mpmath>=0.19 in /usr/local/lib/python3.10/dist-packages (from sympy->torch>=1.8.0->ultralytics) (1.3.0)\n",
      "Installing collected packages: nvidia-nvtx-cu12, nvidia-nvjitlink-cu12, nvidia-nccl-cu12, nvidia-curand-cu12, nvidia-cufft-cu12, nvidia-cuda-runtime-cu12, nvidia-cuda-nvrtc-cu12, nvidia-cuda-cupti-cu12, nvidia-cublas-cu12, nvidia-cusparse-cu12, nvidia-cudnn-cu12, nvidia-cusolver-cu12, thop, ultralytics\n",
      "Successfully installed nvidia-cublas-cu12-12.1.3.1 nvidia-cuda-cupti-cu12-12.1.105 nvidia-cuda-nvrtc-cu12-12.1.105 nvidia-cuda-runtime-cu12-12.1.105 nvidia-cudnn-cu12-8.9.2.26 nvidia-cufft-cu12-11.0.2.54 nvidia-curand-cu12-10.3.2.106 nvidia-cusolver-cu12-11.4.5.107 nvidia-cusparse-cu12-12.1.0.106 nvidia-nccl-cu12-2.19.3 nvidia-nvjitlink-cu12-12.4.127 nvidia-nvtx-cu12-12.1.105 thop-0.1.1.post2209072238 ultralytics-8.2.10\n"
     ]
    }
   ],
   "source": [
    "# Install the ultralytics package from PyPI\n",
    "!pip install ultralytics"
   ]
  },
  {
   "cell_type": "code",
   "execution_count": 2,
   "metadata": {
    "colab": {
     "base_uri": "https://localhost:8080/"
    },
    "executionInfo": {
     "elapsed": 25039,
     "status": "ok",
     "timestamp": 1715109334565,
     "user": {
      "displayName": "Azam Saif",
      "userId": "17741120664034748522"
     },
     "user_tz": -300
    },
    "id": "XjoBpF0aZAjn",
    "outputId": "398a99f5-4e29-4af0-b93e-22c32acf5797"
   },
   "outputs": [
    {
     "name": "stdout",
     "output_type": "stream",
     "text": [
      "Mounted at /content/drive\n"
     ]
    }
   ],
   "source": [
    "from google.colab import drive\n",
    "drive.mount('/content/drive')"
   ]
  },
  {
   "cell_type": "code",
   "execution_count": 5,
   "metadata": {
    "colab": {
     "base_uri": "https://localhost:8080/"
    },
    "executionInfo": {
     "elapsed": 386464,
     "status": "ok",
     "timestamp": 1715109872474,
     "user": {
      "displayName": "Azam Saif",
      "userId": "17741120664034748522"
     },
     "user_tz": -300
    },
    "id": "Echv7AiKZmNr",
    "outputId": "64dd3cac-8b37-485c-bcc2-2d61bb831934"
   },
   "outputs": [
    {
     "name": "stdout",
     "output_type": "stream",
     "text": [
      "Transferred 355/355 items from pretrained weights\n",
      "Ultralytics YOLOv8.2.10 🚀 Python-3.10.12 torch-2.2.1+cu121 CUDA:0 (Tesla T4, 15102MiB)\n",
      "\u001b[34m\u001b[1mengine/trainer: \u001b[0mtask=detect, mode=train, model=yolov8n.yaml, data=/content/drive/MyDrive/yolov8/Data/Data Sets/data.yaml, epochs=10, time=None, patience=100, batch=8, imgsz=640, save=True, save_period=-1, cache=False, device=None, workers=8, project=/content/drive/MyDrive/yolov8/training_results, name=plant_disease, exist_ok=False, pretrained=True, optimizer=auto, verbose=True, seed=0, deterministic=True, single_cls=False, rect=False, cos_lr=False, close_mosaic=10, resume=False, amp=True, fraction=1.0, profile=False, freeze=None, multi_scale=False, overlap_mask=True, mask_ratio=4, dropout=0.0, val=True, split=val, save_json=False, save_hybrid=False, conf=None, iou=0.7, max_det=300, half=False, dnn=False, plots=True, source=None, vid_stride=1, stream_buffer=False, visualize=False, augment=False, agnostic_nms=False, classes=None, retina_masks=False, embed=None, show=False, save_frames=False, save_txt=False, save_conf=False, save_crop=False, show_labels=True, show_conf=True, show_boxes=True, line_width=None, format=torchscript, keras=False, optimize=False, int8=False, dynamic=False, simplify=False, opset=None, workspace=4, nms=False, lr0=0.01, lrf=0.01, momentum=0.937, weight_decay=0.0005, warmup_epochs=3.0, warmup_momentum=0.8, warmup_bias_lr=0.1, box=7.5, cls=0.5, dfl=1.5, pose=12.0, kobj=1.0, label_smoothing=0.0, nbs=64, hsv_h=0.015, hsv_s=0.7, hsv_v=0.4, degrees=0.0, translate=0.1, scale=0.5, shear=0.0, perspective=0.0, flipud=0.0, fliplr=0.5, bgr=0.0, mosaic=1.0, mixup=0.0, copy_paste=0.0, auto_augment=randaugment, erasing=0.4, crop_fraction=1.0, cfg=None, tracker=botsort.yaml, save_dir=/content/drive/MyDrive/yolov8/training_results/plant_disease\n",
      "Downloading https://ultralytics.com/assets/Arial.ttf to '/root/.config/Ultralytics/Arial.ttf'...\n"
     ]
    },
    {
     "name": "stderr",
     "output_type": "stream",
     "text": [
      "100%|██████████| 755k/755k [00:00<00:00, 22.8MB/s]\n"
     ]
    },
    {
     "name": "stdout",
     "output_type": "stream",
     "text": [
      "Overriding model.yaml nc=80 with nc=2\n",
      "\n",
      "                   from  n    params  module                                       arguments                     \n",
      "  0                  -1  1       464  ultralytics.nn.modules.conv.Conv             [3, 16, 3, 2]                 \n",
      "  1                  -1  1      4672  ultralytics.nn.modules.conv.Conv             [16, 32, 3, 2]                \n",
      "  2                  -1  1      7360  ultralytics.nn.modules.block.C2f             [32, 32, 1, True]             \n",
      "  3                  -1  1     18560  ultralytics.nn.modules.conv.Conv             [32, 64, 3, 2]                \n",
      "  4                  -1  2     49664  ultralytics.nn.modules.block.C2f             [64, 64, 2, True]             \n",
      "  5                  -1  1     73984  ultralytics.nn.modules.conv.Conv             [64, 128, 3, 2]               \n",
      "  6                  -1  2    197632  ultralytics.nn.modules.block.C2f             [128, 128, 2, True]           \n",
      "  7                  -1  1    295424  ultralytics.nn.modules.conv.Conv             [128, 256, 3, 2]              \n",
      "  8                  -1  1    460288  ultralytics.nn.modules.block.C2f             [256, 256, 1, True]           \n",
      "  9                  -1  1    164608  ultralytics.nn.modules.block.SPPF            [256, 256, 5]                 \n",
      " 10                  -1  1         0  torch.nn.modules.upsampling.Upsample         [None, 2, 'nearest']          \n",
      " 11             [-1, 6]  1         0  ultralytics.nn.modules.conv.Concat           [1]                           \n",
      " 12                  -1  1    148224  ultralytics.nn.modules.block.C2f             [384, 128, 1]                 \n",
      " 13                  -1  1         0  torch.nn.modules.upsampling.Upsample         [None, 2, 'nearest']          \n",
      " 14             [-1, 4]  1         0  ultralytics.nn.modules.conv.Concat           [1]                           \n",
      " 15                  -1  1     37248  ultralytics.nn.modules.block.C2f             [192, 64, 1]                  \n",
      " 16                  -1  1     36992  ultralytics.nn.modules.conv.Conv             [64, 64, 3, 2]                \n",
      " 17            [-1, 12]  1         0  ultralytics.nn.modules.conv.Concat           [1]                           \n",
      " 18                  -1  1    123648  ultralytics.nn.modules.block.C2f             [192, 128, 1]                 \n",
      " 19                  -1  1    147712  ultralytics.nn.modules.conv.Conv             [128, 128, 3, 2]              \n",
      " 20             [-1, 9]  1         0  ultralytics.nn.modules.conv.Concat           [1]                           \n",
      " 21                  -1  1    493056  ultralytics.nn.modules.block.C2f             [384, 256, 1]                 \n",
      " 22        [15, 18, 21]  1    751702  ultralytics.nn.modules.head.Detect           [2, [64, 128, 256]]           \n",
      "YOLOv8n summary: 225 layers, 3011238 parameters, 3011222 gradients, 8.2 GFLOPs\n",
      "\n",
      "Transferred 319/355 items from pretrained weights\n",
      "\u001b[34m\u001b[1mTensorBoard: \u001b[0mStart with 'tensorboard --logdir /content/drive/MyDrive/yolov8/training_results/plant_disease', view at http://localhost:6006/\n",
      "Freezing layer 'model.22.dfl.conv.weight'\n",
      "\u001b[34m\u001b[1mAMP: \u001b[0mrunning Automatic Mixed Precision (AMP) checks with YOLOv8n...\n",
      "\u001b[34m\u001b[1mAMP: \u001b[0mchecks passed ✅\n"
     ]
    },
    {
     "name": "stderr",
     "output_type": "stream",
     "text": [
      "\u001b[34m\u001b[1mtrain: \u001b[0mScanning /content/drive/MyDrive/yolov8/Data/Data Sets/train/labels... 525 images, 0 backgrounds, 0 corrupt: 100%|██████████| 525/525 [02:24<00:00,  3.64it/s]\n"
     ]
    },
    {
     "name": "stdout",
     "output_type": "stream",
     "text": [
      "\u001b[34m\u001b[1mtrain: \u001b[0mNew cache created: /content/drive/MyDrive/yolov8/Data/Data Sets/train/labels.cache\n",
      "\u001b[34m\u001b[1malbumentations: \u001b[0mBlur(p=0.01, blur_limit=(3, 7)), MedianBlur(p=0.01, blur_limit=(3, 7)), ToGray(p=0.01), CLAHE(p=0.01, clip_limit=(1, 4.0), tile_grid_size=(8, 8))\n"
     ]
    },
    {
     "name": "stderr",
     "output_type": "stream",
     "text": [
      "/usr/lib/python3.10/multiprocessing/popen_fork.py:66: RuntimeWarning: os.fork() was called. os.fork() is incompatible with multithreaded code, and JAX is multithreaded, so this will likely lead to a deadlock.\n",
      "  self.pid = os.fork()\n",
      "\u001b[34m\u001b[1mval: \u001b[0mScanning /content/drive/MyDrive/yolov8/Data/Data Sets/valid/labels... 70 images, 0 backgrounds, 0 corrupt: 100%|██████████| 70/70 [00:45<00:00,  1.56it/s]"
     ]
    },
    {
     "name": "stdout",
     "output_type": "stream",
     "text": [
      "\u001b[34m\u001b[1mval: \u001b[0mNew cache created: /content/drive/MyDrive/yolov8/Data/Data Sets/valid/labels.cache\n"
     ]
    },
    {
     "name": "stderr",
     "output_type": "stream",
     "text": [
      "\n"
     ]
    },
    {
     "name": "stdout",
     "output_type": "stream",
     "text": [
      "Plotting labels to /content/drive/MyDrive/yolov8/training_results/plant_disease/labels.jpg... \n",
      "\u001b[34m\u001b[1moptimizer:\u001b[0m 'optimizer=auto' found, ignoring 'lr0=0.01' and 'momentum=0.937' and determining best 'optimizer', 'lr0' and 'momentum' automatically... \n",
      "\u001b[34m\u001b[1moptimizer:\u001b[0m AdamW(lr=0.001667, momentum=0.9) with parameter groups 57 weight(decay=0.0), 64 weight(decay=0.0005), 63 bias(decay=0.0)\n",
      "\u001b[34m\u001b[1mTensorBoard: \u001b[0mmodel graph visualization added ✅\n",
      "Image sizes 640 train, 640 val\n",
      "Using 2 dataloader workers\n",
      "Logging results to \u001b[1m/content/drive/MyDrive/yolov8/training_results/plant_disease\u001b[0m\n",
      "Starting training for 10 epochs...\n",
      "Closing dataloader mosaic\n",
      "\u001b[34m\u001b[1malbumentations: \u001b[0mBlur(p=0.01, blur_limit=(3, 7)), MedianBlur(p=0.01, blur_limit=(3, 7)), ToGray(p=0.01), CLAHE(p=0.01, clip_limit=(1, 4.0), tile_grid_size=(8, 8))\n"
     ]
    },
    {
     "name": "stderr",
     "output_type": "stream",
     "text": [
      "/usr/lib/python3.10/multiprocessing/popen_fork.py:66: RuntimeWarning: os.fork() was called. os.fork() is incompatible with multithreaded code, and JAX is multithreaded, so this will likely lead to a deadlock.\n",
      "  self.pid = os.fork()\n"
     ]
    },
    {
     "name": "stdout",
     "output_type": "stream",
     "text": [
      "\n",
      "      Epoch    GPU_mem   box_loss   cls_loss   dfl_loss  Instances       Size\n"
     ]
    },
    {
     "name": "stderr",
     "output_type": "stream",
     "text": [
      "       1/10      1.42G     0.4853      2.245      1.239          5        640: 100%|██████████| 66/66 [00:17<00:00,  3.68it/s]\n",
      "                 Class     Images  Instances      Box(P          R      mAP50  mAP50-95): 100%|██████████| 5/5 [00:02<00:00,  1.91it/s]"
     ]
    },
    {
     "name": "stdout",
     "output_type": "stream",
     "text": [
      "                   all         70         70      0.873      0.474       0.56      0.529\n"
     ]
    },
    {
     "name": "stderr",
     "output_type": "stream",
     "text": [
      "\n"
     ]
    },
    {
     "name": "stdout",
     "output_type": "stream",
     "text": [
      "\n",
      "      Epoch    GPU_mem   box_loss   cls_loss   dfl_loss  Instances       Size\n"
     ]
    },
    {
     "name": "stderr",
     "output_type": "stream",
     "text": [
      "       2/10      1.24G     0.1815      1.201      1.016          5        640: 100%|██████████| 66/66 [00:13<00:00,  4.73it/s]\n",
      "                 Class     Images  Instances      Box(P          R      mAP50  mAP50-95): 100%|██████████| 5/5 [00:00<00:00,  6.43it/s]"
     ]
    },
    {
     "name": "stdout",
     "output_type": "stream",
     "text": [
      "                   all         70         70      0.785      0.881      0.883      0.872\n"
     ]
    },
    {
     "name": "stderr",
     "output_type": "stream",
     "text": [
      "\n"
     ]
    },
    {
     "name": "stdout",
     "output_type": "stream",
     "text": [
      "\n",
      "      Epoch    GPU_mem   box_loss   cls_loss   dfl_loss  Instances       Size\n"
     ]
    },
    {
     "name": "stderr",
     "output_type": "stream",
     "text": [
      "       3/10      1.24G     0.1643      0.991      0.989          5        640: 100%|██████████| 66/66 [00:13<00:00,  4.76it/s]\n",
      "                 Class     Images  Instances      Box(P          R      mAP50  mAP50-95): 100%|██████████| 5/5 [00:00<00:00,  5.79it/s]"
     ]
    },
    {
     "name": "stdout",
     "output_type": "stream",
     "text": [
      "                   all         70         70      0.821      0.917      0.927      0.872\n"
     ]
    },
    {
     "name": "stderr",
     "output_type": "stream",
     "text": [
      "\n"
     ]
    },
    {
     "name": "stdout",
     "output_type": "stream",
     "text": [
      "\n",
      "      Epoch    GPU_mem   box_loss   cls_loss   dfl_loss  Instances       Size\n"
     ]
    },
    {
     "name": "stderr",
     "output_type": "stream",
     "text": [
      "       4/10      1.24G     0.1483      0.884     0.9694          5        640: 100%|██████████| 66/66 [00:13<00:00,  4.72it/s]\n",
      "                 Class     Images  Instances      Box(P          R      mAP50  mAP50-95): 100%|██████████| 5/5 [00:00<00:00,  5.87it/s]"
     ]
    },
    {
     "name": "stdout",
     "output_type": "stream",
     "text": [
      "                   all         70         70       0.69      0.896       0.87      0.837\n"
     ]
    },
    {
     "name": "stderr",
     "output_type": "stream",
     "text": [
      "\n"
     ]
    },
    {
     "name": "stdout",
     "output_type": "stream",
     "text": [
      "\n",
      "      Epoch    GPU_mem   box_loss   cls_loss   dfl_loss  Instances       Size\n"
     ]
    },
    {
     "name": "stderr",
     "output_type": "stream",
     "text": [
      "       5/10      1.24G     0.1268     0.7525     0.9652          5        640: 100%|██████████| 66/66 [00:13<00:00,  4.82it/s]\n",
      "                 Class     Images  Instances      Box(P          R      mAP50  mAP50-95): 100%|██████████| 5/5 [00:00<00:00,  6.45it/s]"
     ]
    },
    {
     "name": "stdout",
     "output_type": "stream",
     "text": [
      "                   all         70         70      0.917      0.898      0.946      0.915\n"
     ]
    },
    {
     "name": "stderr",
     "output_type": "stream",
     "text": [
      "\n"
     ]
    },
    {
     "name": "stdout",
     "output_type": "stream",
     "text": [
      "\n",
      "      Epoch    GPU_mem   box_loss   cls_loss   dfl_loss  Instances       Size\n"
     ]
    },
    {
     "name": "stderr",
     "output_type": "stream",
     "text": [
      "       6/10      1.24G      0.109     0.6863     0.9485          5        640: 100%|██████████| 66/66 [00:13<00:00,  4.89it/s]\n",
      "                 Class     Images  Instances      Box(P          R      mAP50  mAP50-95): 100%|██████████| 5/5 [00:00<00:00,  5.68it/s]"
     ]
    },
    {
     "name": "stdout",
     "output_type": "stream",
     "text": [
      "                   all         70         70      0.895      0.908       0.95      0.943\n"
     ]
    },
    {
     "name": "stderr",
     "output_type": "stream",
     "text": [
      "\n"
     ]
    },
    {
     "name": "stdout",
     "output_type": "stream",
     "text": [
      "\n",
      "      Epoch    GPU_mem   box_loss   cls_loss   dfl_loss  Instances       Size\n"
     ]
    },
    {
     "name": "stderr",
     "output_type": "stream",
     "text": [
      "       7/10      1.24G    0.09875     0.6697      0.924          5        640: 100%|██████████| 66/66 [00:14<00:00,  4.71it/s]\n",
      "                 Class     Images  Instances      Box(P          R      mAP50  mAP50-95): 100%|██████████| 5/5 [00:01<00:00,  3.18it/s]"
     ]
    },
    {
     "name": "stdout",
     "output_type": "stream",
     "text": [
      "                   all         70         70      0.868      0.924      0.904      0.896\n"
     ]
    },
    {
     "name": "stderr",
     "output_type": "stream",
     "text": [
      "\n"
     ]
    },
    {
     "name": "stdout",
     "output_type": "stream",
     "text": [
      "\n",
      "      Epoch    GPU_mem   box_loss   cls_loss   dfl_loss  Instances       Size\n"
     ]
    },
    {
     "name": "stderr",
     "output_type": "stream",
     "text": [
      "       8/10      1.24G    0.09174     0.5743     0.9434          5        640: 100%|██████████| 66/66 [00:14<00:00,  4.70it/s]\n",
      "                 Class     Images  Instances      Box(P          R      mAP50  mAP50-95): 100%|██████████| 5/5 [00:00<00:00,  6.42it/s]"
     ]
    },
    {
     "name": "stdout",
     "output_type": "stream",
     "text": [
      "                   all         70         70       0.85      0.976      0.932      0.924\n"
     ]
    },
    {
     "name": "stderr",
     "output_type": "stream",
     "text": [
      "\n"
     ]
    },
    {
     "name": "stdout",
     "output_type": "stream",
     "text": [
      "\n",
      "      Epoch    GPU_mem   box_loss   cls_loss   dfl_loss  Instances       Size\n"
     ]
    },
    {
     "name": "stderr",
     "output_type": "stream",
     "text": [
      "       9/10      1.24G    0.08045     0.5237     0.9125          5        640: 100%|██████████| 66/66 [00:14<00:00,  4.70it/s]\n",
      "                 Class     Images  Instances      Box(P          R      mAP50  mAP50-95): 100%|██████████| 5/5 [00:00<00:00,  6.09it/s]"
     ]
    },
    {
     "name": "stdout",
     "output_type": "stream",
     "text": [
      "                   all         70         70      0.894      0.966      0.947      0.938\n"
     ]
    },
    {
     "name": "stderr",
     "output_type": "stream",
     "text": [
      "\n"
     ]
    },
    {
     "name": "stdout",
     "output_type": "stream",
     "text": [
      "\n",
      "      Epoch    GPU_mem   box_loss   cls_loss   dfl_loss  Instances       Size\n"
     ]
    },
    {
     "name": "stderr",
     "output_type": "stream",
     "text": [
      "      10/10      1.24G    0.06651      0.506     0.9295          5        640: 100%|██████████| 66/66 [00:14<00:00,  4.62it/s]\n",
      "                 Class     Images  Instances      Box(P          R      mAP50  mAP50-95): 100%|██████████| 5/5 [00:00<00:00,  6.86it/s]"
     ]
    },
    {
     "name": "stdout",
     "output_type": "stream",
     "text": [
      "                   all         70         70      0.894      0.972      0.921      0.912\n"
     ]
    },
    {
     "name": "stderr",
     "output_type": "stream",
     "text": [
      "\n"
     ]
    },
    {
     "name": "stdout",
     "output_type": "stream",
     "text": [
      "\n",
      "10 epochs completed in 0.047 hours.\n",
      "Optimizer stripped from /content/drive/MyDrive/yolov8/training_results/plant_disease/weights/last.pt, 6.2MB\n",
      "Optimizer stripped from /content/drive/MyDrive/yolov8/training_results/plant_disease/weights/best.pt, 6.2MB\n",
      "\n",
      "Validating /content/drive/MyDrive/yolov8/training_results/plant_disease/weights/best.pt...\n",
      "Ultralytics YOLOv8.2.10 🚀 Python-3.10.12 torch-2.2.1+cu121 CUDA:0 (Tesla T4, 15102MiB)\n",
      "YOLOv8n summary (fused): 168 layers, 3006038 parameters, 0 gradients, 8.1 GFLOPs\n"
     ]
    },
    {
     "name": "stderr",
     "output_type": "stream",
     "text": [
      "                 Class     Images  Instances      Box(P          R      mAP50  mAP50-95): 100%|██████████| 5/5 [00:03<00:00,  1.67it/s]\n"
     ]
    },
    {
     "name": "stdout",
     "output_type": "stream",
     "text": [
      "                   all         70         70      0.896      0.908       0.95      0.943\n",
      "                DStuff         70         58      0.981      0.899       0.99      0.976\n",
      "                  Good         70         12       0.81      0.917       0.91       0.91\n",
      "Speed: 0.2ms preprocess, 8.5ms inference, 0.0ms loss, 6.4ms postprocess per image\n",
      "Results saved to \u001b[1m/content/drive/MyDrive/yolov8/training_results/plant_disease\u001b[0m\n"
     ]
    }
   ],
   "source": [
    "from ultralytics import YOLO\n",
    "\n",
    "# Load a model\n",
    "model = YOLO('yolov8n.yaml')  # build a new model from YAML\n",
    "model = YOLO('yolov8n.pt')  # load a pretrained model (recommended for training)\n",
    "model = YOLO('yolov8n.yaml').load('yolov8n.pt')  # build from YAML and transfer weights\n",
    "\n",
    "# Train the model\n",
    "results = model.train(data='/content/drive/MyDrive/yolov8/Data/Data Sets/data.yaml', epochs=10, imgsz=640, batch=8, project='/content/drive/MyDrive/yolov8/training_results', name='plant_disease')\n"
   ]
  },
  {
   "cell_type": "code",
   "execution_count": 10,
   "metadata": {
    "colab": {
     "base_uri": "https://localhost:8080/"
    },
    "executionInfo": {
     "elapsed": 9369,
     "status": "ok",
     "timestamp": 1715111675464,
     "user": {
      "displayName": "Azam Saif",
      "userId": "17741120664034748522"
     },
     "user_tz": -300
    },
    "id": "aCxjSETBiLXg",
    "outputId": "bf30a265-0f03-4076-e449-27052eced1c1"
   },
   "outputs": [
    {
     "name": "stdout",
     "output_type": "stream",
     "text": [
      "Ultralytics YOLOv8.2.10 🚀 Python-3.10.12 torch-2.2.1+cu121 CUDA:0 (Tesla T4, 15102MiB)\n",
      "YOLOv8n summary (fused): 168 layers, 3006038 parameters, 0 gradients, 8.1 GFLOPs\n"
     ]
    },
    {
     "name": "stderr",
     "output_type": "stream",
     "text": [
      "\u001b[34m\u001b[1mval: \u001b[0mScanning /content/drive/MyDrive/yolov8/Data/Data Sets/valid/labels.cache... 70 images, 0 backgrounds, 0 corrupt: 100%|██████████| 70/70 [00:00<?, ?it/s]\n",
      "/usr/lib/python3.10/multiprocessing/popen_fork.py:66: RuntimeWarning: os.fork() was called. os.fork() is incompatible with multithreaded code, and JAX is multithreaded, so this will likely lead to a deadlock.\n",
      "  self.pid = os.fork()\n",
      "                 Class     Images  Instances      Box(P          R      mAP50  mAP50-95): 100%|██████████| 5/5 [00:03<00:00,  1.29it/s]\n"
     ]
    },
    {
     "name": "stdout",
     "output_type": "stream",
     "text": [
      "                   all         70         70          1          1      0.995      0.995\n",
      "                DStuff         70         58          1          1      0.995      0.995\n",
      "                  Good         70         12          1          1      0.995      0.995\n",
      "Speed: 2.4ms preprocess, 6.0ms inference, 0.0ms loss, 12.9ms postprocess per image\n",
      "Saving runs/detect/val2/predictions.json...\n",
      "Results saved to \u001b[1mruns/detect/val2\u001b[0m\n"
     ]
    }
   ],
   "source": [
    "from ultralytics import YOLO\n",
    "\n",
    "# Load a model\n",
    "model = YOLO('yolov8n.pt')  # load an official model\n",
    "model = YOLO('/content/drive/MyDrive/yolov8/training_results/plant_disease/weights/best.pt')  # load a custom model\n",
    "\n",
    "# Validate the model\n",
    "metrics = model.val(save_json=True , save_hybrid=True)  # no arguments needed, dataset and settings remembered\n",
    "metrics.box.map    # map50-95\n",
    "metrics.box.map50  # map50\n",
    "metrics.box.map75  # map75\n",
    "results = metrics.box.maps   # a list contains map50-95 of each category\n",
    "results = (\"/content/drive/MyDrive/yolov8/Output\")"
   ]
  },
  {
   "cell_type": "code",
   "execution_count": 15,
   "metadata": {
    "colab": {
     "base_uri": "https://localhost:8080/"
    },
    "executionInfo": {
     "elapsed": 14487,
     "status": "ok",
     "timestamp": 1715112174092,
     "user": {
      "displayName": "Azam Saif",
      "userId": "17741120664034748522"
     },
     "user_tz": -300
    },
    "id": "fIRgnuxSlEWR",
    "outputId": "5bf228d9-0c9a-45a6-e3f8-35750a93b70e"
   },
   "outputs": [
    {
     "name": "stdout",
     "output_type": "stream",
     "text": [
      "\n",
      "image 1/39 /content/drive/MyDrive/yolov8/Data/Data Sets/test/images/HGIC_shrubs_blackspot_rose_16x9_jpg.rf.109d3c12741ff22588f95602d5cb3c57.jpg: 640x640 1 DStuff, 9.0ms\n",
      "image 2/39 /content/drive/MyDrive/yolov8/Data/Data Sets/test/images/HGIC_shrubs_blackspot_rose_16x9_jpg.rf.18aa134636869d79e8622d9eab5b0ba4.jpg: 640x640 1 DStuff, 9.3ms\n",
      "image 3/39 /content/drive/MyDrive/yolov8/Data/Data Sets/test/images/HGIC_shrubs_blackspot_rose_16x9_jpg.rf.236eb61611db530f80fd867aa58284a2.jpg: 640x640 1 DStuff, 8.7ms\n",
      "image 4/39 /content/drive/MyDrive/yolov8/Data/Data Sets/test/images/HGIC_shrubs_blackspot_rose_16x9_jpg.rf.28cb6c7e5aff6f4a89cef2150952f778.jpg: 640x640 1 DStuff, 8.9ms\n",
      "image 5/39 /content/drive/MyDrive/yolov8/Data/Data Sets/test/images/HGIC_shrubs_blackspot_rose_16x9_jpg.rf.76ea81f02c76b2243fef4f6597cacc6a.jpg: 640x640 1 DStuff, 10.2ms\n",
      "image 6/39 /content/drive/MyDrive/yolov8/Data/Data Sets/test/images/HGIC_shrubs_blackspot_rose_16x9_jpg.rf.9ea9ca4cd7a0921d52b78259bdd4e17c.jpg: 640x640 1 DStuff, 9.3ms\n",
      "image 7/39 /content/drive/MyDrive/yolov8/Data/Data Sets/test/images/HGIC_shrubs_blackspot_rose_16x9_jpg.rf.f8665539f85450943150068d7ab37436.jpg: 640x640 1 DStuff, 9.3ms\n",
      "image 8/39 /content/drive/MyDrive/yolov8/Data/Data Sets/test/images/Rose-Rosette_Ashley-Brake-1_jpg.rf.37aa5acc17cf0f1fe60d21e06b72e38a.jpg: 640x640 1 DStuff, 9.2ms\n",
      "image 9/39 /content/drive/MyDrive/yolov8/Data/Data Sets/test/images/Rose-Rosette_Ashley-Brake-1_jpg.rf.4dd696c34a9c322d2b41d1cf53751bd0.jpg: 640x640 1 DStuff, 10.2ms\n",
      "image 10/39 /content/drive/MyDrive/yolov8/Data/Data Sets/test/images/Rose-Rosette_Ashley-Brake-1_jpg.rf.5110b03defb7f1437c7be346e23e3808.jpg: 640x640 1 DStuff, 9.3ms\n",
      "image 11/39 /content/drive/MyDrive/yolov8/Data/Data Sets/test/images/Rose-Rosette_Ashley-Brake-1_jpg.rf.5a6fa8ffef552e3ddbd7bf555530971c.jpg: 640x640 1 DStuff, 9.2ms\n",
      "image 12/39 /content/drive/MyDrive/yolov8/Data/Data Sets/test/images/Rose-Rosette_Ashley-Brake-1_jpg.rf.9c59035e1df198eb3923d3ef770a98fd.jpg: 640x640 1 DStuff, 9.3ms\n",
      "image 13/39 /content/drive/MyDrive/yolov8/Data/Data Sets/test/images/Rose-Rosette_Ashley-Brake-1_jpg.rf.c3c82f2a4c9b3f436fc394eec87ecd4f.jpg: 640x640 1 DStuff, 9.4ms\n",
      "image 14/39 /content/drive/MyDrive/yolov8/Data/Data Sets/test/images/Rose-Rosette_Ashley-Brake-1_jpg.rf.d6f6d5ff08166072896f574662d8d8e8.jpg: 640x640 1 DStuff, 8.9ms\n",
      "image 15/39 /content/drive/MyDrive/yolov8/Data/Data Sets/test/images/Rose-Rosette_Ashley-Brake-1_jpg.rf.de3e89082946b6e4fbfac779d11be9c2.jpg: 640x640 1 DStuff, 9.5ms\n",
      "image 16/39 /content/drive/MyDrive/yolov8/Data/Data Sets/test/images/download--4-_jpeg.rf.1d5b261393dffba2ecf38bf33240d9d4.jpg: 640x640 1 DStuff, 9.1ms\n",
      "image 17/39 /content/drive/MyDrive/yolov8/Data/Data Sets/test/images/download--4-_jpeg.rf.69db6eb3395a8ea176bd44c16b3218ba.jpg: 640x640 1 DStuff, 9.3ms\n",
      "image 18/39 /content/drive/MyDrive/yolov8/Data/Data Sets/test/images/download--4-_jpeg.rf.788288e9b9ad980b003bea032dd21864.jpg: 640x640 1 DStuff, 9.1ms\n",
      "image 19/39 /content/drive/MyDrive/yolov8/Data/Data Sets/test/images/download--4-_jpeg.rf.968cc95c211075e5f563973bb8d86023.jpg: 640x640 1 DStuff, 8.8ms\n",
      "image 20/39 /content/drive/MyDrive/yolov8/Data/Data Sets/test/images/download--4-_jpeg.rf.c1de25e98a7b57ae7a21b869d43731c4.jpg: 640x640 1 Good, 9.1ms\n",
      "image 21/39 /content/drive/MyDrive/yolov8/Data/Data Sets/test/images/images_jpeg.rf.50f68f22ffd4a9c3ffa11f7427def310.jpg: 640x640 1 DStuff, 9.6ms\n",
      "image 22/39 /content/drive/MyDrive/yolov8/Data/Data Sets/test/images/images_jpeg.rf.5334f11640d716995a53bf81f6d0d38c.jpg: 640x640 1 DStuff, 9.3ms\n",
      "image 23/39 /content/drive/MyDrive/yolov8/Data/Data Sets/test/images/images_jpeg.rf.597c9d3ffa74975776bfd598f4b54d8b.jpg: 640x640 1 DStuff, 12.0ms\n",
      "image 24/39 /content/drive/MyDrive/yolov8/Data/Data Sets/test/images/images_jpeg.rf.9ebd6856b22271c8cf376b1bf8da51fa.jpg: 640x640 1 DStuff, 11.2ms\n",
      "image 25/39 /content/drive/MyDrive/yolov8/Data/Data Sets/test/images/images_jpeg.rf.b474d9a3653c736ad34616b843e057ef.jpg: 640x640 1 DStuff, 16.8ms\n",
      "image 26/39 /content/drive/MyDrive/yolov8/Data/Data Sets/test/images/images_jpeg.rf.e0abeb21279a9118f8e148c499e4872c.jpg: 640x640 1 DStuff, 11.9ms\n",
      "image 27/39 /content/drive/MyDrive/yolov8/Data/Data Sets/test/images/images_jpeg.rf.f2ee39d296185f5dd3c584d96fa63322.jpg: 640x640 1 DStuff, 18.0ms\n",
      "image 28/39 /content/drive/MyDrive/yolov8/Data/Data Sets/test/images/images_jpeg.rf.f3afe5937b1fd12d89a73dba0babc9b1.jpg: 640x640 1 DStuff, 12.6ms\n",
      "image 29/39 /content/drive/MyDrive/yolov8/Data/Data Sets/test/images/rose-spot-diplocarpon-rosae-a-fungal-disease-on-rose-leaves-in-summer-DHB98W_jpg.rf.2d97f89edce50d968fa122dce47ecd26.jpg: 640x640 1 DStuff, 9.3ms\n",
      "image 30/39 /content/drive/MyDrive/yolov8/Data/Data Sets/test/images/rose-spot-diplocarpon-rosae-a-fungal-disease-on-rose-leaves-in-summer-DHB98W_jpg.rf.378ef0858402588a04a3a82a303e59d2.jpg: 640x640 1 DStuff, 10.0ms\n",
      "image 31/39 /content/drive/MyDrive/yolov8/Data/Data Sets/test/images/rose-spot-diplocarpon-rosae-a-fungal-disease-on-rose-leaves-in-summer-DHB98W_jpg.rf.447810391f754b3ed4f79993f0054160.jpg: 640x640 1 DStuff, 10.2ms\n",
      "image 32/39 /content/drive/MyDrive/yolov8/Data/Data Sets/test/images/rose-spot-diplocarpon-rosae-a-fungal-disease-on-rose-leaves-in-summer-DHB98W_jpg.rf.50e8326fee5c878573ace154989e60ab.jpg: 640x640 1 DStuff, 9.1ms\n",
      "image 33/39 /content/drive/MyDrive/yolov8/Data/Data Sets/test/images/rose-spot-diplocarpon-rosae-a-fungal-disease-on-rose-leaves-in-summer-DHB98W_jpg.rf.63e64f01921f6ea96160eaef87858002.jpg: 640x640 1 DStuff, 9.1ms\n",
      "image 34/39 /content/drive/MyDrive/yolov8/Data/Data Sets/test/images/rose-spot-diplocarpon-rosae-a-fungal-disease-on-rose-leaves-in-summer-DHB98W_jpg.rf.98d13c3a60dbf6f97ab3c35032a2ab68.jpg: 640x640 1 DStuff, 10.2ms\n",
      "image 35/39 /content/drive/MyDrive/yolov8/Data/Data Sets/test/images/rose-spot-diplocarpon-rosae-a-fungal-disease-on-rose-leaves-in-summer-DHB98W_jpg.rf.9c3235f8c695353f40e97da9a812a7f5.jpg: 640x640 1 DStuff, 11.7ms\n",
      "image 36/39 /content/drive/MyDrive/yolov8/Data/Data Sets/test/images/rose-spot-diplocarpon-rosae-a-fungal-disease-on-rose-leaves-in-summer-DHB98W_jpg.rf.a1647d544d0fcc30aa7a8a5afb71a7df.jpg: 640x640 1 DStuff, 9.1ms\n",
      "image 37/39 /content/drive/MyDrive/yolov8/Data/Data Sets/test/images/rose-spot-diplocarpon-rosae-a-fungal-disease-on-rose-leaves-in-summer-DHB98W_jpg.rf.c7cc440c8fa3aa075cb549d6b466e11b.jpg: 640x640 1 DStuff, 9.1ms\n",
      "image 38/39 /content/drive/MyDrive/yolov8/Data/Data Sets/test/images/rose-spot-diplocarpon-rosae-a-fungal-disease-on-rose-leaves-in-summer-DHB98W_jpg.rf.e6e61c147c1ee02d7d257994a4245f88.jpg: 640x640 1 DStuff, 9.0ms\n",
      "image 39/39 /content/drive/MyDrive/yolov8/Data/Data Sets/test/images/rose-spot-diplocarpon-rosae-a-fungal-disease-on-rose-leaves-in-summer-DHB98W_jpg.rf.ecd68f2a749a952fdcc5ebf5ec69665a.jpg: 640x640 1 DStuff, 9.0ms\n",
      "Speed: 2.8ms preprocess, 10.1ms inference, 1.7ms postprocess per image at shape (1, 3, 640, 640)\n"
     ]
    }
   ],
   "source": [
    "from ultralytics import YOLO\n",
    "\n",
    "# Load a model\n",
    "model = YOLO('yolov8n.pt')  # load an official model\n",
    "model = YOLO('/content/drive/MyDrive/yolov8/training_results/plant_disease/weights/best.pt')  # load a custom model\n",
    "\n",
    "# Predict with the model\n",
    "results = model('/content/drive/MyDrive/yolov8/Data/Data Sets/test/images')  # predict on an image"
   ]
  },
  {
   "cell_type": "code",
   "execution_count": 18,
   "metadata": {
    "executionInfo": {
     "elapsed": 489,
     "status": "ok",
     "timestamp": 1715112439202,
     "user": {
      "displayName": "Azam Saif",
      "userId": "17741120664034748522"
     },
     "user_tz": -300
    },
    "id": "u0vptGOyqT3p"
   },
   "outputs": [],
   "source": [
    "from ultralytics import YOLO\n",
    "import torch\n",
    "\n",
    "# Load a model\n",
    "model = YOLO('yolov8n.pt')  # load an official model\n",
    "model = YOLO('/content/drive/MyDrive/yolov8/training_results/plant_disease/weights/best.pt')  # load a custom trained model\n",
    "\n",
    "# Export the model to .pt format\n",
    "torch.save(model.model.state_dict(), 'yolov8n_plant.pt')\n"
   ]
  },
  {
   "cell_type": "code",
   "execution_count": 19,
   "metadata": {
    "executionInfo": {
     "elapsed": 385,
     "status": "ok",
     "timestamp": 1715112544873,
     "user": {
      "displayName": "Azam Saif",
      "userId": "17741120664034748522"
     },
     "user_tz": -300
    },
    "id": "iRiWq2YCq-bT"
   },
   "outputs": [],
   "source": [
    "from ultralytics import YOLO\n",
    "import torch\n",
    "\n",
    "# Load your trained YOLOv8 model\n",
    "model = YOLO('yolov8n.pt')  # Assuming 'yolov8n.pt' is your trained model file\n",
    "\n",
    "# Specify the directory where you want to export the model\n",
    "export_dir = '/content/drive/MyDrive/yolov8/Output'\n",
    "\n",
    "# Export the model to .pt format in the specified directory\n",
    "torch.save(model.model.state_dict(), export_dir + 'yolov8n_plant.pt')\n"
   ]
  }
 ],
 "metadata": {
  "accelerator": "GPU",
  "colab": {
   "authorship_tag": "ABX9TyMxq32Pyhbf8zghiaoS+rkJ",
   "gpuType": "T4",
   "provenance": []
  },
  "kernelspec": {
   "display_name": "Python 3 (ipykernel)",
   "language": "python",
   "name": "python3"
  },
  "language_info": {
   "codemirror_mode": {
    "name": "ipython",
    "version": 3
   },
   "file_extension": ".py",
   "mimetype": "text/x-python",
   "name": "python",
   "nbconvert_exporter": "python",
   "pygments_lexer": "ipython3",
   "version": "3.9.13"
  }
 },
 "nbformat": 4,
 "nbformat_minor": 1
}
